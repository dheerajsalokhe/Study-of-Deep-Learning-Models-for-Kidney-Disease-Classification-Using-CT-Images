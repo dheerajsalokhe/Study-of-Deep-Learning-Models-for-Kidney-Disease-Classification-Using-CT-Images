{
 "cells": [
  {
   "cell_type": "code",
   "execution_count": 23,
   "id": "6a2cd0cc",
   "metadata": {
    "papermill": {
     "duration": 13.393321,
     "end_time": "2024-01-04T12:45:04.077530",
     "exception": false,
     "start_time": "2024-01-04T12:44:50.684209",
     "status": "completed"
    },
    "tags": []
   },
   "outputs": [
    {
     "name": "stdout",
     "output_type": "stream",
     "text": [
      "Requirement already satisfied: torch in c:\\users\\dheer\\anaconda3\\lib\\site-packages (2.5.1)\n",
      "Requirement already satisfied: torchvision in c:\\users\\dheer\\anaconda3\\lib\\site-packages (0.20.1)\n",
      "Requirement already satisfied: transformers in c:\\users\\dheer\\anaconda3\\lib\\site-packages (4.46.2)\n",
      "Requirement already satisfied: filelock in c:\\users\\dheer\\anaconda3\\lib\\site-packages (from torch) (3.13.1)\n",
      "Requirement already satisfied: typing-extensions>=4.8.0 in c:\\users\\dheer\\anaconda3\\lib\\site-packages (from torch) (4.12.2)\n",
      "Requirement already satisfied: networkx in c:\\users\\dheer\\anaconda3\\lib\\site-packages (from torch) (3.1)\n",
      "Requirement already satisfied: jinja2 in c:\\users\\dheer\\anaconda3\\lib\\site-packages (from torch) (3.1.3)\n",
      "Requirement already satisfied: fsspec in c:\\users\\dheer\\anaconda3\\lib\\site-packages (from torch) (2023.10.0)\n",
      "Requirement already satisfied: sympy==1.13.1 in c:\\users\\dheer\\anaconda3\\lib\\site-packages (from torch) (1.13.1)\n",
      "Requirement already satisfied: mpmath<1.4,>=1.1.0 in c:\\users\\dheer\\anaconda3\\lib\\site-packages (from sympy==1.13.1->torch) (1.3.0)\n",
      "Requirement already satisfied: numpy in c:\\users\\dheer\\anaconda3\\lib\\site-packages (from torchvision) (1.24.3)\n",
      "Requirement already satisfied: pillow!=8.3.*,>=5.3.0 in c:\\users\\dheer\\anaconda3\\lib\\site-packages (from torchvision) (10.2.0)\n",
      "Requirement already satisfied: huggingface-hub<1.0,>=0.23.2 in c:\\users\\dheer\\anaconda3\\lib\\site-packages (from transformers) (0.26.0)\n",
      "Requirement already satisfied: packaging>=20.0 in c:\\users\\dheer\\anaconda3\\lib\\site-packages (from transformers) (23.1)\n",
      "Requirement already satisfied: pyyaml>=5.1 in c:\\users\\dheer\\anaconda3\\lib\\site-packages (from transformers) (6.0.1)\n",
      "Requirement already satisfied: regex!=2019.12.17 in c:\\users\\dheer\\anaconda3\\lib\\site-packages (from transformers) (2023.10.3)\n",
      "Requirement already satisfied: requests in c:\\users\\dheer\\anaconda3\\lib\\site-packages (from transformers) (2.31.0)\n",
      "Requirement already satisfied: safetensors>=0.4.1 in c:\\users\\dheer\\anaconda3\\lib\\site-packages (from transformers) (0.4.5)\n",
      "Requirement already satisfied: tokenizers<0.21,>=0.20 in c:\\users\\dheer\\anaconda3\\lib\\site-packages (from transformers) (0.20.3)\n",
      "Requirement already satisfied: tqdm>=4.27 in c:\\users\\dheer\\anaconda3\\lib\\site-packages (from transformers) (4.65.0)\n",
      "Requirement already satisfied: colorama in c:\\users\\dheer\\anaconda3\\lib\\site-packages (from tqdm>=4.27->transformers) (0.4.6)\n",
      "Requirement already satisfied: MarkupSafe>=2.0 in c:\\users\\dheer\\anaconda3\\lib\\site-packages (from jinja2->torch) (2.1.3)\n",
      "Requirement already satisfied: charset-normalizer<4,>=2 in c:\\users\\dheer\\anaconda3\\lib\\site-packages (from requests->transformers) (2.0.4)\n",
      "Requirement already satisfied: idna<4,>=2.5 in c:\\users\\dheer\\anaconda3\\lib\\site-packages (from requests->transformers) (3.4)\n",
      "Requirement already satisfied: urllib3<3,>=1.21.1 in c:\\users\\dheer\\anaconda3\\lib\\site-packages (from requests->transformers) (2.0.7)\n",
      "Requirement already satisfied: certifi>=2017.4.17 in c:\\users\\dheer\\anaconda3\\lib\\site-packages (from requests->transformers) (2024.2.2)\n"
     ]
    }
   ],
   "source": [
    "!pip install torch torchvision transformers"
   ]
  },
  {
   "cell_type": "code",
   "execution_count": 2,
   "id": "d0ae544a",
   "metadata": {
    "papermill": {
     "duration": 19.688451,
     "end_time": "2024-01-04T12:45:23.777174",
     "exception": false,
     "start_time": "2024-01-04T12:45:04.088723",
     "status": "completed"
    },
    "tags": []
   },
   "outputs": [],
   "source": [
    "import os\n",
    "import torch\n",
    "import torchvision\n",
    "from torchvision import transforms\n",
    "from torch.utils.data import DataLoader, Dataset\n",
    "from transformers import ViTForImageClassification\n",
    "from transformers import ViTFeatureExtractor\n",
    "import torch.nn as nn\n",
    "import torch.optim as optim\n",
    "from sklearn.metrics import classification_report\n",
    "import matplotlib.pyplot as plt\n",
    "from PIL import Image\n"
   ]
  },
  {
   "cell_type": "code",
   "execution_count": 6,
   "id": "3563be99",
   "metadata": {
    "papermill": {
     "duration": 0.765575,
     "end_time": "2024-01-04T12:45:24.553405",
     "exception": false,
     "start_time": "2024-01-04T12:45:23.787830",
     "status": "completed"
    },
    "tags": []
   },
   "outputs": [],
   "source": [
    "from PIL import Image  # Add this import\n",
    "\n",
    "class KidneyDataset(Dataset):\n",
    "    def __init__(self, root_dir, feature_extractor):\n",
    "        self.root_dir = root_dir\n",
    "        self.feature_extractor = feature_extractor\n",
    "        self.classes = ['Cyst', 'Normal', 'Stone', 'Tumor']\n",
    "        self.data = []\n",
    "        for idx, cls in enumerate(self.classes):\n",
    "            path = os.path.join(root_dir, cls)\n",
    "            for img in os.listdir(path):\n",
    "                self.data.append((os.path.join(path, img), idx))\n",
    "\n",
    "    def __len__(self):\n",
    "        return len(self.data)\n",
    "\n",
    "    def __getitem__(self, idx):\n",
    "        img_path, label = self.data[idx]\n",
    "        image = Image.open(img_path).convert(\"RGB\")  # Ensure RGB mode\n",
    "        encoded_image = self.feature_extractor(images=image, return_tensors=\"pt\")\n",
    "        return encoded_image[\"pixel_values\"].squeeze(0), label\n",
    "\n",
    "\n",
    "\n",
    "root_dir = r'C:\\Users\\dheer\\OneDrive\\Documents\\RIC\\RESEARCH_PROJECT\\archive\\CT-KIDNEY-DATASET-Normal-Cyst-Tumor-Stone\\CT-KIDNEY-DATASET-Normal-Cyst-Tumor-Stone'\n",
    "feature_extractor = ViTFeatureExtractor.from_pretrained('google/vit-base-patch16-224-in21k')\n",
    "dataset = KidneyDataset(root_dir, feature_extractor)\n",
    "feature_extractor = ViTFeatureExtractor.from_pretrained(\n",
    "    'google/vit-base-patch16-224-in21k',\n",
    "    do_resize=True,\n",
    "    size=224,\n",
    "    do_normalize=True\n",
    ")\n",
    "\n",
    "\n",
    "# Split the dataset into train and test sets\n",
    "train_size = int(0.8 * len(dataset))\n",
    "test_size = len(dataset) - train_size\n",
    "train_dataset, test_dataset = torch.utils.data.random_split(dataset, [train_size, test_size])\n",
    "\n",
    "train_loader = DataLoader(train_dataset, batch_size=16, shuffle=True, pin_memory=True)\n",
    "test_loader = DataLoader(test_dataset, batch_size=16, shuffle=False, pin_memory=True)\n",
    "\n"
   ]
  },
  {
   "cell_type": "code",
   "execution_count": 7,
   "id": "297d29b7",
   "metadata": {
    "papermill": {
     "duration": 2.85617,
     "end_time": "2024-01-04T12:45:27.420862",
     "exception": false,
     "start_time": "2024-01-04T12:45:24.564692",
     "status": "completed"
    },
    "tags": []
   },
   "outputs": [
    {
     "name": "stderr",
     "output_type": "stream",
     "text": [
      "Some weights of ViTForImageClassification were not initialized from the model checkpoint at google/vit-base-patch16-224-in21k and are newly initialized: ['classifier.bias', 'classifier.weight']\n",
      "You should probably TRAIN this model on a down-stream task to be able to use it for predictions and inference.\n"
     ]
    }
   ],
   "source": [
    "class ViTClassifier(nn.Module):\n",
    "    def __init__(self, num_classes):\n",
    "        super(ViTClassifier, self).__init__()\n",
    "        self.vit = ViTForImageClassification.from_pretrained('google/vit-base-patch16-224-in21k')\n",
    "    \n",
    "        self.vit.classifier = nn.Linear(self.vit.config.hidden_size, num_classes)\n",
    "\n",
    "    def forward(self, x):\n",
    "        x = self.vit(pixel_values=x).logits\n",
    "        return x\n",
    "\n",
    "model = ViTClassifier(num_classes=4)\n"
   ]
  },
  {
   "cell_type": "code",
   "execution_count": 8,
   "id": "f4e25821-9d56-4de5-bf78-d717a3beaabf",
   "metadata": {},
   "outputs": [
    {
     "name": "stdout",
     "output_type": "stream",
     "text": [
      "Using device: cpu\n"
     ]
    },
    {
     "data": {
      "text/plain": [
       "ViTClassifier(\n",
       "  (vit): ViTForImageClassification(\n",
       "    (vit): ViTModel(\n",
       "      (embeddings): ViTEmbeddings(\n",
       "        (patch_embeddings): ViTPatchEmbeddings(\n",
       "          (projection): Conv2d(3, 768, kernel_size=(16, 16), stride=(16, 16))\n",
       "        )\n",
       "        (dropout): Dropout(p=0.0, inplace=False)\n",
       "      )\n",
       "      (encoder): ViTEncoder(\n",
       "        (layer): ModuleList(\n",
       "          (0-11): 12 x ViTLayer(\n",
       "            (attention): ViTSdpaAttention(\n",
       "              (attention): ViTSdpaSelfAttention(\n",
       "                (query): Linear(in_features=768, out_features=768, bias=True)\n",
       "                (key): Linear(in_features=768, out_features=768, bias=True)\n",
       "                (value): Linear(in_features=768, out_features=768, bias=True)\n",
       "                (dropout): Dropout(p=0.0, inplace=False)\n",
       "              )\n",
       "              (output): ViTSelfOutput(\n",
       "                (dense): Linear(in_features=768, out_features=768, bias=True)\n",
       "                (dropout): Dropout(p=0.0, inplace=False)\n",
       "              )\n",
       "            )\n",
       "            (intermediate): ViTIntermediate(\n",
       "              (dense): Linear(in_features=768, out_features=3072, bias=True)\n",
       "              (intermediate_act_fn): GELUActivation()\n",
       "            )\n",
       "            (output): ViTOutput(\n",
       "              (dense): Linear(in_features=3072, out_features=768, bias=True)\n",
       "              (dropout): Dropout(p=0.0, inplace=False)\n",
       "            )\n",
       "            (layernorm_before): LayerNorm((768,), eps=1e-12, elementwise_affine=True)\n",
       "            (layernorm_after): LayerNorm((768,), eps=1e-12, elementwise_affine=True)\n",
       "          )\n",
       "        )\n",
       "      )\n",
       "      (layernorm): LayerNorm((768,), eps=1e-12, elementwise_affine=True)\n",
       "    )\n",
       "    (classifier): Linear(in_features=768, out_features=4, bias=True)\n",
       "  )\n",
       ")"
      ]
     },
     "execution_count": 8,
     "metadata": {},
     "output_type": "execute_result"
    }
   ],
   "source": [
    "device = torch.device(\"cuda\" if torch.cuda.is_available() else \"cpu\")\n",
    "print(f\"Using device: {device}\")\n",
    "model.to(device)\n"
   ]
  },
  {
   "cell_type": "code",
   "execution_count": 52,
   "id": "f862be07",
   "metadata": {
    "papermill": {
     "duration": 0.019093,
     "end_time": "2024-01-04T12:45:27.451538",
     "exception": false,
     "start_time": "2024-01-04T12:45:27.432445",
     "status": "completed"
    },
    "tags": []
   },
   "outputs": [],
   "source": [
    "import numpy as np\n",
    "import pandas as pd\n",
    "import matplotlib.pyplot as plt\n",
    "from sklearn.metrics import confusion_matrix, classification_report, accuracy_score, precision_recall_fscore_support\n"
   ]
  },
  {
   "cell_type": "code",
   "execution_count": 53,
   "id": "bd415144",
   "metadata": {
    "papermill": {
     "duration": 0.019215,
     "end_time": "2024-01-04T12:45:32.912816",
     "exception": false,
     "start_time": "2024-01-04T12:45:32.893601",
     "status": "completed"
    },
    "tags": []
   },
   "outputs": [],
   "source": [
    "criterion = nn.CrossEntropyLoss()\n",
    "optimizer = optim.Adam(model.parameters(), lr=2e-5)\n"
   ]
  },
  {
   "cell_type": "code",
   "execution_count": null,
   "id": "14122ab2",
   "metadata": {
    "papermill": {
     "duration": 23473.153187,
     "end_time": "2024-01-04T19:16:46.076751",
     "exception": false,
     "start_time": "2024-01-04T12:45:32.923564",
     "status": "completed"
    },
    "tags": []
   },
   "outputs": [
    {
     "name": "stdout",
     "output_type": "stream",
     "text": [
      "Epoch 1, Loss: 0.27686495688500223, Accuracy: 0.9271795901968662\n",
      "Epoch 2, Loss: 0.030035431767375855, Accuracy: 0.997890719164323\n",
      "Epoch 3, Loss: 0.012006991504008371, Accuracy: 1.0\n",
      "Epoch 4, Loss: 0.006902135557302216, Accuracy: 1.0\n",
      "Epoch 5, Loss: 0.0042959576495810985, Accuracy: 1.0\n",
      "Epoch 6, Loss: 0.002789342693721406, Accuracy: 1.0\n",
      "Epoch 7, Loss: 0.0018631393603014835, Accuracy: 1.0\n"
     ]
    }
   ],
   "source": [
    "train_losses = []\n",
    "train_accuracies = []\n",
    "num_epochs = 50\n",
    "\n",
    "for epoch in range(num_epochs):\n",
    "    model.train()\n",
    "    running_loss = 0.0\n",
    "    correct = 0\n",
    "    total = 0\n",
    "    for inputs, labels in train_loader:\n",
    "        inputs, labels = inputs.to(device), labels.to(device)\n",
    "        optimizer.zero_grad()\n",
    "        outputs = model(inputs)\n",
    "        loss = criterion(outputs, labels)\n",
    "        loss.backward()\n",
    "        optimizer.step()\n",
    "\n",
    "        running_loss += loss.item()\n",
    "        _, predicted = torch.max(outputs.data, 1)\n",
    "        total += labels.size(0)\n",
    "        correct += (predicted == labels).sum().item()\n",
    "\n",
    "    epoch_loss = running_loss / len(train_loader)\n",
    "    epoch_acc = correct / total\n",
    "    train_losses.append(epoch_loss)\n",
    "    train_accuracies.append(epoch_acc)\n",
    "\n",
    "    print(f'Epoch {epoch + 1}, Loss: {epoch_loss}, Accuracy: {epoch_acc}')\n"
   ]
  },
  {
   "cell_type": "code",
   "execution_count": 9,
   "id": "6fc05f8e",
   "metadata": {
    "execution": {
     "iopub.execute_input": "2024-01-04T19:16:46.111257Z",
     "iopub.status.busy": "2024-01-04T19:16:46.110801Z",
     "iopub.status.idle": "2024-01-04T19:18:04.168045Z",
     "shell.execute_reply": "2024-01-04T19:18:04.166995Z"
    },
    "papermill": {
     "duration": 78.093025,
     "end_time": "2024-01-04T19:18:04.185479",
     "exception": false,
     "start_time": "2024-01-04T19:16:46.092454",
     "status": "completed"
    },
    "tags": []
   },
   "outputs": [
    {
     "name": "stdout",
     "output_type": "stream",
     "text": [
      "Accuracy: 0.7823293172690763\n",
      "Precision: 0.7249081644571258\n",
      "Recall: 0.6914297924077557\n",
      "F1 Score: 0.702564371032486\n",
      "              precision    recall  f1-score   support\n",
      "\n",
      "        Cyst       0.85      0.90      0.88       731\n",
      "      Normal       0.80      0.90      0.85      1006\n",
      "       Stone       0.52      0.38      0.44       276\n",
      "       Tumor       0.72      0.58      0.65       477\n",
      "\n",
      "    accuracy                           0.78      2490\n",
      "   macro avg       0.72      0.69      0.70      2490\n",
      "weighted avg       0.77      0.78      0.77      2490\n",
      "\n",
      "[[660   6  46  19]\n",
      " [ 10 905  27  64]\n",
      " [ 84  64 105  23]\n",
      " [ 19 157  23 278]]\n"
     ]
    }
   ],
   "source": [
    "model.eval()\n",
    "all_preds = []\n",
    "all_labels = []\n",
    "with torch.no_grad():\n",
    "    for inputs, labels in test_loader:\n",
    "        inputs, labels = inputs.to(device), labels.to(device)\n",
    "        outputs = model(inputs)\n",
    "        _, preds = torch.max(outputs, 1)\n",
    "        all_preds.extend(preds.cpu().numpy())\n",
    "        all_labels.extend(labels.cpu().numpy())\n",
    "\n",
    "accuracy = accuracy_score(all_labels, all_preds)\n",
    "precision, recall, f1, _ = precision_recall_fscore_support(all_labels, all_preds, average='macro')\n",
    "print(f\"Accuracy: {accuracy}\\nPrecision: {precision}\\nRecall: {recall}\\nF1 Score: {f1}\")\n",
    "print(classification_report(all_labels, all_preds, target_names=['Cyst', 'Normal', 'Stone', 'Tumor']))\n",
    "\n",
    "# Confusion Matrix\n",
    "conf_matrix = confusion_matrix(all_labels, all_preds)\n",
    "print(conf_matrix)\n"
   ]
  },
  {
   "cell_type": "code",
   "execution_count": 10,
   "id": "879e9ae6",
   "metadata": {
    "execution": {
     "iopub.execute_input": "2024-01-04T19:18:04.218827Z",
     "iopub.status.busy": "2024-01-04T19:18:04.218487Z",
     "iopub.status.idle": "2024-01-04T19:18:04.755309Z",
     "shell.execute_reply": "2024-01-04T19:18:04.754326Z"
    },
    "papermill": {
     "duration": 0.556198,
     "end_time": "2024-01-04T19:18:04.757503",
     "exception": false,
     "start_time": "2024-01-04T19:18:04.201305",
     "status": "completed"
    },
    "tags": []
   },
   "outputs": [
    {
     "data": {
      "image/png": "[encoded data removed]",
      "text/plain": [
       "<Figure size 1200x500 with 2 Axes>"
      ]
     },
     "metadata": {},
     "output_type": "display_data"
    }
   ],
   "source": [
    "plt.figure(figsize=(12, 5))\n",
    "plt.subplot(1, 2, 1)\n",
    "plt.plot(train_losses, label='Training Loss')\n",
    "plt.title('Training Loss')\n",
    "plt.legend()\n",
    "\n",
    "plt.subplot(1, 2, 2)\n",
    "plt.plot(train_accuracies, label='Training Accuracy')\n",
    "plt.title('Training Accuracy')\n",
    "plt.legend()\n",
    "\n",
    "plt.show()\n"
   ]
  },
  {
   "cell_type": "code",
   "execution_count": 11,
   "id": "c754a7ab",
   "metadata": {
    "execution": {
     "iopub.execute_input": "2024-01-04T19:18:04.791577Z",
     "iopub.status.busy": "2024-01-04T19:18:04.790897Z",
     "iopub.status.idle": "2024-01-04T19:18:04.807030Z",
     "shell.execute_reply": "2024-01-04T19:18:04.806291Z"
    },
    "papermill": {
     "duration": 0.034995,
     "end_time": "2024-01-04T19:18:04.809042",
     "exception": false,
     "start_time": "2024-01-04T19:18:04.774047",
     "status": "completed"
    },
    "tags": []
   },
   "outputs": [],
   "source": [
    "df = pd.DataFrame({\n",
    "    'Model': ['ViTClassifier'],\n",
    "    'Accuracy': [accuracy],\n",
    "    'Precision': [precision],\n",
    "    'Recall': [recall],\n",
    "    'F1 Score': [f1]\n",
    "})\n",
    "df.to_csv('model_performance.csv', index=False)\n"
   ]
  },
  {
   "cell_type": "code",
   "execution_count": 12,
   "id": "d5363d0a",
   "metadata": {
    "execution": {
     "iopub.execute_input": "2024-01-04T19:18:04.841730Z",
     "iopub.status.busy": "2024-01-04T19:18:04.841411Z",
     "iopub.status.idle": "2024-01-04T19:18:04.846290Z",
     "shell.execute_reply": "2024-01-04T19:18:04.845557Z"
    },
    "papermill": {
     "duration": 0.023357,
     "end_time": "2024-01-04T19:18:04.848159",
     "exception": false,
     "start_time": "2024-01-04T19:18:04.824802",
     "status": "completed"
    },
    "tags": []
   },
   "outputs": [],
   "source": [
    "np.savetxt(\"confusion_matrix.csv\", conf_matrix, delimiter=\",\", fmt='%d')\n"
   ]
  },
  {
   "cell_type": "code",
   "execution_count": 13,
   "id": "20d78841",
   "metadata": {
    "execution": {
     "iopub.execute_input": "2024-01-04T19:18:04.880417Z",
     "iopub.status.busy": "2024-01-04T19:18:04.880125Z",
     "iopub.status.idle": "2024-01-04T19:18:05.322079Z",
     "shell.execute_reply": "2024-01-04T19:18:05.321291Z"
    },
    "papermill": {
     "duration": 0.460655,
     "end_time": "2024-01-04T19:18:05.324419",
     "exception": false,
     "start_time": "2024-01-04T19:18:04.863764",
     "status": "completed"
    },
    "tags": []
   },
   "outputs": [],
   "source": [
    "torch.save(model.state_dict(), 'vit_kidney_disease_classifier.pth')"
   ]
  },
  {
   "cell_type": "code",
   "execution_count": 14,
   "id": "2da4ad9e",
   "metadata": {
    "execution": {
     "iopub.execute_input": "2024-01-04T19:18:05.360402Z",
     "iopub.status.busy": "2024-01-04T19:18:05.360015Z",
     "iopub.status.idle": "2024-01-04T19:18:06.067432Z",
     "shell.execute_reply": "2024-01-04T19:18:06.066503Z"
    },
    "papermill": {
     "duration": 0.727451,
     "end_time": "2024-01-04T19:18:06.069742",
     "exception": false,
     "start_time": "2024-01-04T19:18:05.342291",
     "status": "completed"
    },
    "tags": []
   },
   "outputs": [
    {
     "data": {
      "image/png": "[encoded data removed]",
      "text/plain": [
       "<Figure size 1000x700 with 2 Axes>"
      ]
     },
     "metadata": {},
     "output_type": "display_data"
    }
   ],
   "source": [
    "import seaborn as sns\n",
    "\n",
    "# Assuming `conf_matrix` is your confusion matrix obtained from the evaluation step\n",
    "plt.figure(figsize=(10, 7))\n",
    "sns.heatmap(conf_matrix, annot=True, fmt='d', cmap='Blues', xticklabels=['Cyst', 'Normal', 'Stone', 'Tumor'], yticklabels=['Cyst', 'Normal', 'Stone', 'Tumor'])\n",
    "plt.xlabel('Predicted')\n",
    "plt.ylabel('True')\n",
    "plt.title('Confusion Matrix')\n",
    "plt.savefig('confusion_matrix.png')\n",
    "plt.show()\n"
   ]
  },
  {
   "cell_type": "code",
   "execution_count": 15,
   "id": "0fe281c2",
   "metadata": {
    "execution": {
     "iopub.execute_input": "2024-01-04T19:18:06.104766Z",
     "iopub.status.busy": "2024-01-04T19:18:06.104377Z",
     "iopub.status.idle": "2024-01-04T19:18:06.278893Z",
     "shell.execute_reply": "2024-01-04T19:18:06.278005Z"
    },
    "papermill": {
     "duration": 0.1946,
     "end_time": "2024-01-04T19:18:06.281146",
     "exception": false,
     "start_time": "2024-01-04T19:18:06.086546",
     "status": "completed"
    },
    "tags": []
   },
   "outputs": [
    {
     "data": {
      "text/plain": [
       "ViTClassifier(\n",
       "  (vit): ViTForImageClassification(\n",
       "    (vit): ViTModel(\n",
       "      (embeddings): ViTEmbeddings(\n",
       "        (patch_embeddings): ViTPatchEmbeddings(\n",
       "          (projection): Conv2d(3, 768, kernel_size=(16, 16), stride=(16, 16))\n",
       "        )\n",
       "        (dropout): Dropout(p=0.0, inplace=False)\n",
       "      )\n",
       "      (encoder): ViTEncoder(\n",
       "        (layer): ModuleList(\n",
       "          (0-11): 12 x ViTLayer(\n",
       "            (attention): ViTAttention(\n",
       "              (attention): ViTSelfAttention(\n",
       "                (query): Linear(in_features=768, out_features=768, bias=True)\n",
       "                (key): Linear(in_features=768, out_features=768, bias=True)\n",
       "                (value): Linear(in_features=768, out_features=768, bias=True)\n",
       "                (dropout): Dropout(p=0.0, inplace=False)\n",
       "              )\n",
       "              (output): ViTSelfOutput(\n",
       "                (dense): Linear(in_features=768, out_features=768, bias=True)\n",
       "                (dropout): Dropout(p=0.0, inplace=False)\n",
       "              )\n",
       "            )\n",
       "            (intermediate): ViTIntermediate(\n",
       "              (dense): Linear(in_features=768, out_features=3072, bias=True)\n",
       "              (intermediate_act_fn): GELUActivation()\n",
       "            )\n",
       "            (output): ViTOutput(\n",
       "              (dense): Linear(in_features=3072, out_features=768, bias=True)\n",
       "              (dropout): Dropout(p=0.0, inplace=False)\n",
       "            )\n",
       "            (layernorm_before): LayerNorm((768,), eps=1e-12, elementwise_affine=True)\n",
       "            (layernorm_after): LayerNorm((768,), eps=1e-12, elementwise_affine=True)\n",
       "          )\n",
       "        )\n",
       "      )\n",
       "      (layernorm): LayerNorm((768,), eps=1e-12, elementwise_affine=True)\n",
       "    )\n",
       "    (classifier): Linear(in_features=768, out_features=4, bias=True)\n",
       "  )\n",
       ")"
      ]
     },
     "execution_count": 15,
     "metadata": {},
     "output_type": "execute_result"
    }
   ],
   "source": [
    "model_path = '/kaggle/working/vit_kidney_disease_classifier.pth'\n",
    "model.load_state_dict(torch.load(model_path))\n",
    "model.eval()  # Set the model to evaluation mode\n"
   ]
  },
  {
   "cell_type": "code",
   "execution_count": 16,
   "id": "c55642ff",
   "metadata": {
    "execution": {
     "iopub.execute_input": "2024-01-04T19:18:06.318208Z",
     "iopub.status.busy": "2024-01-04T19:18:06.317844Z",
     "iopub.status.idle": "2024-01-04T19:19:08.253438Z",
     "shell.execute_reply": "2024-01-04T19:19:08.252278Z"
    },
    "papermill": {
     "duration": 61.972321,
     "end_time": "2024-01-04T19:19:08.272703",
     "exception": false,
     "start_time": "2024-01-04T19:18:06.300382",
     "status": "completed"
    },
    "tags": []
   },
   "outputs": [
    {
     "name": "stdout",
     "output_type": "stream",
     "text": [
      "Accuracy: 0.7823293172690763\n",
      "              precision    recall  f1-score   support\n",
      "\n",
      "        Cyst       0.85      0.90      0.88       731\n",
      "      Normal       0.80      0.90      0.85      1006\n",
      "       Stone       0.52      0.38      0.44       276\n",
      "       Tumor       0.72      0.58      0.65       477\n",
      "\n",
      "    accuracy                           0.78      2490\n",
      "   macro avg       0.72      0.69      0.70      2490\n",
      "weighted avg       0.77      0.78      0.77      2490\n",
      "\n"
     ]
    }
   ],
   "source": [
    "device = torch.device(\"cuda\" if torch.cuda.is_available() else \"cpu\")\n",
    "model.to(device)\n",
    "\n",
    "all_preds = []\n",
    "all_labels = []\n",
    "with torch.no_grad():\n",
    "    for inputs, labels in test_loader:\n",
    "        inputs, labels = inputs.to(device), labels.to(device)\n",
    "        outputs = model(inputs)\n",
    "        _, preds = torch.max(outputs, 1)\n",
    "        all_preds.extend(preds.cpu().numpy())\n",
    "        all_labels.extend(labels.cpu().numpy())\n",
    "\n",
    "# Calculate accuracy and other metrics if needed\n",
    "accuracy = accuracy_score(all_labels, all_preds)\n",
    "print(f'Accuracy: {accuracy}')\n",
    "\n",
    "# Print the classification report\n",
    "print(classification_report(all_labels, all_preds, target_names=['Cyst', 'Normal', 'Stone', 'Tumor']))\n"
   ]
  },
  {
   "cell_type": "code",
   "execution_count": 17,
   "id": "9cbd2e3b",
   "metadata": {
    "execution": {
     "iopub.execute_input": "2024-01-04T19:19:08.309929Z",
     "iopub.status.busy": "2024-01-04T19:19:08.309567Z",
     "iopub.status.idle": "2024-01-04T19:19:08.797483Z",
     "shell.execute_reply": "2024-01-04T19:19:08.796561Z"
    },
    "papermill": {
     "duration": 0.508513,
     "end_time": "2024-01-04T19:19:08.799748",
     "exception": false,
     "start_time": "2024-01-04T19:19:08.291235",
     "status": "completed"
    },
    "tags": []
   },
   "outputs": [
    {
     "name": "stdout",
     "output_type": "stream",
     "text": [
      "Accuracy: 0.7823293172690763\n",
      "Precision: 0.7249081644571258\n",
      "Recall: 0.6914297924077557\n",
      "F1 Score: 0.702564371032486\n"
     ]
    },
    {
     "data": {
      "image/png": "[encoded data removed]",
      "text/plain": [
       "<Figure size 800x600 with 2 Axes>"
      ]
     },
     "metadata": {},
     "output_type": "display_data"
    }
   ],
   "source": [
    "import pandas as pd\n",
    "from sklearn.metrics import classification_report, confusion_matrix, accuracy_score, precision_recall_fscore_support\n",
    "import matplotlib.pyplot as plt\n",
    "import seaborn as sns\n",
    "\n",
    "# Calculate classification metrics\n",
    "accuracy = accuracy_score(all_labels, all_preds)\n",
    "precision, recall, f1, _ = precision_recall_fscore_support(all_labels, all_preds, average='macro')\n",
    "\n",
    "# Print metrics to console\n",
    "print(f'Accuracy: {accuracy}\\nPrecision: {precision}\\nRecall: {recall}\\nF1 Score: {f1}')\n",
    "\n",
    "# Create a DataFrame and save it to a CSV file\n",
    "report_df = pd.DataFrame({\n",
    "    'Metric': ['Accuracy', 'Precision', 'Recall', 'F1 Score'],\n",
    "    'Score': [accuracy, precision, recall, f1]\n",
    "})\n",
    "report_df.to_csv('/kaggle/working/classification_report.csv', index=False)\n",
    "\n",
    "# Calculate and plot the confusion matrix\n",
    "conf_matrix = confusion_matrix(all_labels, all_preds)\n",
    "plt.figure(figsize=(8, 6))\n",
    "sns.heatmap(conf_matrix, annot=True, fmt='d', cmap='Blues', xticklabels=['Cyst', 'Normal', 'Stone', 'Tumor'], yticklabels=['Cyst', 'Normal', 'Stone', 'Tumor'])\n",
    "plt.title('Confusion Matrix')\n",
    "plt.ylabel('True label')\n",
    "plt.xlabel('Predicted label')\n",
    "plt.savefig('/kaggle/working/confusion_matrix.png')\n",
    "plt.show()\n"
   ]
  },
  {
   "cell_type": "code",
   "execution_count": 18,
   "id": "bc5c3a1c",
   "metadata": {
    "execution": {
     "iopub.execute_input": "2024-01-04T19:19:08.837441Z",
     "iopub.status.busy": "2024-01-04T19:19:08.836644Z",
     "iopub.status.idle": "2024-01-04T19:19:09.773782Z",
     "shell.execute_reply": "2024-01-04T19:19:09.772811Z"
    },
    "papermill": {
     "duration": 0.958585,
     "end_time": "2024-01-04T19:19:09.776243",
     "exception": false,
     "start_time": "2024-01-04T19:19:08.817658",
     "status": "completed"
    },
    "tags": []
   },
   "outputs": [
    {
     "data": {
      "image/png": "[encoded data removed]",
      "text/plain": [
       "<Figure size 1200x600 with 2 Axes>"
      ]
     },
     "metadata": {},
     "output_type": "display_data"
    }
   ],
   "source": [
    "import matplotlib.pyplot as plt\n",
    "\n",
    "# Assuming train_losses and train_accuracies contain loss and accuracy for each epoch\n",
    "epochs = range(1, num_epochs + 1)\n",
    "\n",
    "# Plotting training loss\n",
    "plt.figure(figsize=(12, 6))\n",
    "plt.subplot(1, 2, 1)\n",
    "plt.plot(epochs, train_losses, label='Training Loss', color='red')\n",
    "plt.title('Training Loss')\n",
    "plt.xlabel('Epochs')\n",
    "plt.ylabel('Loss')\n",
    "plt.legend()\n",
    "\n",
    "# Plotting training accuracy\n",
    "plt.subplot(1, 2, 2)\n",
    "plt.plot(epochs, train_accuracies, label='Training Accuracy', color='blue')\n",
    "plt.title('Training Accuracy')\n",
    "plt.xlabel('Epochs')\n",
    "plt.ylabel('Accuracy')\n",
    "plt.legend()\n",
    "\n",
    "plt.tight_layout()\n",
    "plt.savefig('training_loss_accuracy.png')\n",
    "plt.show()\n"
   ]
  },
  {
   "cell_type": "code",
   "execution_count": 10,
   "id": "485ab140",
   "metadata": {
    "papermill": {
     "duration": 0.018041,
     "end_time": "2024-01-04T19:19:09.813174",
     "exception": false,
     "start_time": "2024-01-04T19:19:09.795133",
     "status": "completed"
    },
    "tags": []
   },
   "outputs": [
    {
     "ename": "AttributeError",
     "evalue": "'ViTClassifier' object has no attribute 'encoder'",
     "output_type": "error",
     "traceback": [
      "\u001b[1;31m---------------------------------------------------------------------------\u001b[0m",
      "\u001b[1;31mAttributeError\u001b[0m                            Traceback (most recent call last)",
      "Cell \u001b[1;32mIn[10], line 83\u001b[0m\n\u001b[0;32m     75\u001b[0m _, predicted_class \u001b[38;5;241m=\u001b[39m torch\u001b[38;5;241m.\u001b[39mmax(output, \u001b[38;5;241m1\u001b[39m)\n\u001b[0;32m     77\u001b[0m \u001b[38;5;66;03m# Instantiate the Grad-CAM object\u001b[39;00m\n\u001b[0;32m     78\u001b[0m \u001b[38;5;66;03m#target_layer = model.base.model.encoder.layer[-1].attention.self\u001b[39;00m\n\u001b[0;32m     79\u001b[0m \u001b[38;5;66;03m#grad_cam = GradCAM(model, target_layer)\u001b[39;00m\n\u001b[0;32m     80\u001b[0m \n\u001b[0;32m     81\u001b[0m \u001b[38;5;66;03m# Assuming you have a ViT model like ViTClassifier\u001b[39;00m\n\u001b[0;32m     82\u001b[0m \u001b[38;5;66;03m# Access the last attention layer in the encoder block\u001b[39;00m\n\u001b[1;32m---> 83\u001b[0m target_layer \u001b[38;5;241m=\u001b[39m model\u001b[38;5;241m.\u001b[39mencoder\u001b[38;5;241m.\u001b[39mblocks[\u001b[38;5;241m-\u001b[39m\u001b[38;5;241m1\u001b[39m]\u001b[38;5;241m.\u001b[39mattn\n\u001b[0;32m     85\u001b[0m \u001b[38;5;66;03m# Now, create the GradCAM object with this target layer\u001b[39;00m\n\u001b[0;32m     86\u001b[0m grad_cam \u001b[38;5;241m=\u001b[39m GradCAM(model, target_layer)\n",
      "File \u001b[1;32m~\\anaconda3\\Lib\\site-packages\\torch\\nn\\modules\\module.py:1931\u001b[0m, in \u001b[0;36mModule.__getattr__\u001b[1;34m(self, name)\u001b[0m\n\u001b[0;32m   1929\u001b[0m     \u001b[38;5;28;01mif\u001b[39;00m name \u001b[38;5;129;01min\u001b[39;00m modules:\n\u001b[0;32m   1930\u001b[0m         \u001b[38;5;28;01mreturn\u001b[39;00m modules[name]\n\u001b[1;32m-> 1931\u001b[0m \u001b[38;5;28;01mraise\u001b[39;00m \u001b[38;5;167;01mAttributeError\u001b[39;00m(\n\u001b[0;32m   1932\u001b[0m     \u001b[38;5;124mf\u001b[39m\u001b[38;5;124m\"\u001b[39m\u001b[38;5;124m'\u001b[39m\u001b[38;5;132;01m{\u001b[39;00m\u001b[38;5;28mtype\u001b[39m(\u001b[38;5;28mself\u001b[39m)\u001b[38;5;241m.\u001b[39m\u001b[38;5;18m__name__\u001b[39m\u001b[38;5;132;01m}\u001b[39;00m\u001b[38;5;124m'\u001b[39m\u001b[38;5;124m object has no attribute \u001b[39m\u001b[38;5;124m'\u001b[39m\u001b[38;5;132;01m{\u001b[39;00mname\u001b[38;5;132;01m}\u001b[39;00m\u001b[38;5;124m'\u001b[39m\u001b[38;5;124m\"\u001b[39m\n\u001b[0;32m   1933\u001b[0m )\n",
      "\u001b[1;31mAttributeError\u001b[0m: 'ViTClassifier' object has no attribute 'encoder'"
     ]
    }
   ],
   "source": [
    "import torch\n",
    "import cv2\n",
    "import numpy as np\n",
    "import matplotlib.pyplot as plt\n",
    "from torch.autograd import Function\n",
    "\n",
    "class GradCAM:\n",
    "    def __init__(self, model, target_layer):\n",
    "        self.model = model\n",
    "        self.target_layer = target_layer\n",
    "        self.gradients = []\n",
    "\n",
    "    def save_gradient(self, grad):\n",
    "        self.gradients.append(grad)\n",
    "\n",
    "    def forward(self, x):\n",
    "        return self.model(x)\n",
    "\n",
    "    def backward(self, target_class):\n",
    "        self.model.zero_grad()\n",
    "        target_class.backward(retain_graph=True)\n",
    "\n",
    "    def generate_cam(self, input_image, target_class):\n",
    "        # Forward pass\n",
    "        self.model.eval()\n",
    "        output = self.forward(input_image)\n",
    "\n",
    "        # Backward pass\n",
    "        self.backward(target_class)\n",
    "\n",
    "        # Get the gradient and activations from the target layer\n",
    "        gradients = self.gradients[0]\n",
    "        activations = self.target_layer.output\n",
    "\n",
    "        # Pool the gradients across the channels (Global Average Pooling)\n",
    "        weights = torch.mean(gradients, dim=(2, 3), keepdim=True)\n",
    "\n",
    "        # Weighted sum of activations\n",
    "        cam = torch.sum(weights * activations, dim=1, keepdim=True)\n",
    "        cam = torch.relu(cam)\n",
    "\n",
    "        # Resize to the input image size\n",
    "        cam = cam.squeeze().detach().cpu().numpy()\n",
    "        cam = cv2.resize(cam, (input_image.shape[2], input_image.shape[3]))\n",
    "\n",
    "        # Normalize the cam values\n",
    "        cam = np.maximum(cam, 0)\n",
    "        cam = cam / cam.max()\n",
    "\n",
    "        return cam\n",
    "\n",
    "    def overlay_cam(self, image, cam, alpha=0.5):\n",
    "        # Convert the image from tensor to numpy array\n",
    "        image = image.squeeze().permute(1, 2, 0).cpu().numpy()\n",
    "        image = cv2.cvtColor(image, cv2.COLOR_RGB2BGR)\n",
    "        \n",
    "        # Apply the Grad-CAM heatmap to the original image\n",
    "        heatmap = cv2.applyColorMap(np.uint8(255 * cam), cv2.COLORMAP_JET)\n",
    "        overlay = cv2.addWeighted(image, alpha, heatmap, 1 - alpha, 0)\n",
    "\n",
    "        return overlay\n",
    "\n",
    "# Assuming you have a trained model (ViTClassifier) and an image loader (test_loader)\n",
    "# Get a sample image and corresponding label from the dataset\n",
    "image, label = next(iter(test_loader))\n",
    "\n",
    "# Move the image and label to the device (GPU/CPU)\n",
    "image = image.to(device)\n",
    "label = label.to(device)\n",
    "\n",
    "# Pass the image through the model to get predictions\n",
    "output = model(image)\n",
    "\n",
    "# Get the predicted class and target class index\n",
    "_, predicted_class = torch.max(output, 1)\n",
    "\n",
    "# Instantiate the Grad-CAM object\n",
    "#target_layer = model.base.model.encoder.layer[-1].attention.self\n",
    "#grad_cam = GradCAM(model, target_layer)\n",
    "\n",
    "# Assuming you have a ViT model like ViTClassifier\n",
    "# Access the last attention layer in the encoder block\n",
    "target_layer = model.encoder.blocks[-1].attn\n",
    "\n",
    "# Now, create the GradCAM object with this target layer\n",
    "grad_cam = GradCAM(model, target_layer)\n",
    "\n",
    "# Generate Grad-CAM for the image\n",
    "grads = grad_cam.generate_gradcam(image)\n",
    "\n",
    "# Generate Grad-CAM for the image\n",
    "cam = grad_cam.generate_cam(image, output[0, predicted_class])\n",
    "\n",
    "# Overlay the heatmap on the original image\n",
    "overlay_image = grad_cam.overlay_cam(image, cam)\n",
    "\n",
    "# Display the original image and the Grad-CAM overlay\n",
    "plt.figure(figsize=(10, 10))\n",
    "plt.subplot(1, 2, 1)\n",
    "plt.imshow(image.squeeze().permute(1, 2, 0).cpu().numpy())\n",
    "plt.title(\"Original Image\")\n",
    "plt.subplot(1, 2, 2)\n",
    "plt.imshow(overlay_image)\n",
    "plt.title(\"Grad-CAM Overlay\")\n",
    "plt.show()\n",
    "\n",
    "# To visualize misclassified images:\n",
    "# If the predicted class does not match the true label\n",
    "if predicted_class != label:\n",
    "    print(f\"Misclassified! Predicted: {predicted_class}, True: {label}\")\n"
   ]
  },
  {
   "cell_type": "code",
   "execution_count": null,
   "id": "85d37632",
   "metadata": {
    "papermill": {
     "duration": 0.018117,
     "end_time": "2024-01-04T19:19:09.924778",
     "exception": false,
     "start_time": "2024-01-04T19:19:09.906661",
     "status": "completed"
    },
    "tags": []
   },
   "outputs": [],
   "source": []
  },
  {
   "cell_type": "code",
   "execution_count": null,
   "id": "a538b9ff",
   "metadata": {
    "papermill": {
     "duration": 0.018035,
     "end_time": "2024-01-04T19:19:09.961215",
     "exception": false,
     "start_time": "2024-01-04T19:19:09.943180",
     "status": "completed"
    },
    "tags": []
   },
   "outputs": [],
   "source": []
  },
  {
   "cell_type": "code",
   "execution_count": null,
   "id": "c771d32e",
   "metadata": {
    "papermill": {
     "duration": 0.019354,
     "end_time": "2024-01-04T19:19:09.998906",
     "exception": false,
     "start_time": "2024-01-04T19:19:09.979552",
     "status": "completed"
    },
    "tags": []
   },
   "outputs": [],
   "source": []
  },
  {
   "cell_type": "code",
   "execution_count": null,
   "id": "122560ce",
   "metadata": {
    "papermill": {
     "duration": 0.020072,
     "end_time": "2024-01-04T19:19:10.038563",
     "exception": false,
     "start_time": "2024-01-04T19:19:10.018491",
     "status": "completed"
    },
    "tags": []
   },
   "outputs": [],
   "source": []
  },
  {
   "cell_type": "code",
   "execution_count": null,
   "id": "0baa3df7",
   "metadata": {
    "papermill": {
     "duration": 0.018255,
     "end_time": "2024-01-04T19:19:10.075957",
     "exception": false,
     "start_time": "2024-01-04T19:19:10.057702",
     "status": "completed"
    },
    "tags": []
   },
   "outputs": [],
   "source": []
  },
  {
   "cell_type": "code",
   "execution_count": null,
   "id": "4683ed1c",
   "metadata": {
    "papermill": {
     "duration": 0.01808,
     "end_time": "2024-01-04T19:19:10.113429",
     "exception": false,
     "start_time": "2024-01-04T19:19:10.095349",
     "status": "completed"
    },
    "tags": []
   },
   "outputs": [],
   "source": [
    "\n"
   ]
  },
  {
   "cell_type": "code",
   "execution_count": null,
   "id": "aacabf81",
   "metadata": {
    "papermill": {
     "duration": 0.018216,
     "end_time": "2024-01-04T19:19:10.149872",
     "exception": false,
     "start_time": "2024-01-04T19:19:10.131656",
     "status": "completed"
    },
    "tags": []
   },
   "outputs": [],
   "source": []
  },
  {
   "cell_type": "code",
   "execution_count": null,
   "id": "7ee35dd9",
   "metadata": {
    "papermill": {
     "duration": 0.01857,
     "end_time": "2024-01-04T19:19:10.186963",
     "exception": false,
     "start_time": "2024-01-04T19:19:10.168393",
     "status": "completed"
    },
    "tags": []
   },
   "outputs": [],
   "source": []
  },
  {
   "cell_type": "code",
   "execution_count": null,
   "id": "595ed433",
   "metadata": {
    "papermill": {
     "duration": 0.017956,
     "end_time": "2024-01-04T19:19:10.223470",
     "exception": false,
     "start_time": "2024-01-04T19:19:10.205514",
     "status": "completed"
    },
    "tags": []
   },
   "outputs": [],
   "source": []
  },
  {
   "cell_type": "code",
   "execution_count": null,
   "id": "69a39374",
   "metadata": {
    "papermill": {
     "duration": 0.018719,
     "end_time": "2024-01-04T19:19:10.260664",
     "exception": false,
     "start_time": "2024-01-04T19:19:10.241945",
     "status": "completed"
    },
    "tags": []
   },
   "outputs": [],
   "source": []
  },
  {
   "cell_type": "code",
   "execution_count": null,
   "id": "ca56e239",
   "metadata": {
    "papermill": {
     "duration": 0.017988,
     "end_time": "2024-01-04T19:19:10.297005",
     "exception": false,
     "start_time": "2024-01-04T19:19:10.279017",
     "status": "completed"
    },
    "tags": []
   },
   "outputs": [],
   "source": []
  },
  {
   "cell_type": "code",
   "execution_count": null,
   "id": "81867806",
   "metadata": {
    "papermill": {
     "duration": 0.018377,
     "end_time": "2024-01-04T19:19:10.334516",
     "exception": false,
     "start_time": "2024-01-04T19:19:10.316139",
     "status": "completed"
    },
    "tags": []
   },
   "outputs": [],
   "source": []
  },
  {
   "cell_type": "code",
   "execution_count": null,
   "id": "d4fa3962",
   "metadata": {
    "papermill": {
     "duration": 0.0195,
     "end_time": "2024-01-04T19:19:10.374224",
     "exception": false,
     "start_time": "2024-01-04T19:19:10.354724",
     "status": "completed"
    },
    "tags": []
   },
   "outputs": [],
   "source": []
  },
  {
   "cell_type": "code",
   "execution_count": null,
   "id": "f22d6a81",
   "metadata": {
    "papermill": {
     "duration": 0.018484,
     "end_time": "2024-01-04T19:19:10.412148",
     "exception": false,
     "start_time": "2024-01-04T19:19:10.393664",
     "status": "completed"
    },
    "tags": []
   },
   "outputs": [],
   "source": []
  },
  {
   "cell_type": "code",
   "execution_count": null,
   "id": "005841f5",
   "metadata": {
    "papermill": {
     "duration": 0.018652,
     "end_time": "2024-01-04T19:19:10.451605",
     "exception": false,
     "start_time": "2024-01-04T19:19:10.432953",
     "status": "completed"
    },
    "tags": []
   },
   "outputs": [],
   "source": []
  },
  {
   "cell_type": "code",
   "execution_count": null,
   "id": "c5ccc148",
   "metadata": {
    "papermill": {
     "duration": 0.017697,
     "end_time": "2024-01-04T19:19:10.488300",
     "exception": false,
     "start_time": "2024-01-04T19:19:10.470603",
     "status": "completed"
    },
    "tags": []
   },
   "outputs": [],
   "source": []
  },
  {
   "cell_type": "code",
   "execution_count": null,
   "id": "1fdfbb1c",
   "metadata": {
    "papermill": {
     "duration": 0.017806,
     "end_time": "2024-01-04T19:19:10.524073",
     "exception": false,
     "start_time": "2024-01-04T19:19:10.506267",
     "status": "completed"
    },
    "tags": []
   },
   "outputs": [],
   "source": []
  },
  {
   "cell_type": "code",
   "execution_count": null,
   "id": "c0141a16",
   "metadata": {
    "papermill": {
     "duration": 0.018782,
     "end_time": "2024-01-04T19:19:10.561158",
     "exception": false,
     "start_time": "2024-01-04T19:19:10.542376",
     "status": "completed"
    },
    "tags": []
   },
   "outputs": [],
   "source": []
  },
  {
   "cell_type": "code",
   "execution_count": null,
   "id": "8d532ba4",
   "metadata": {
    "papermill": {
     "duration": 0.017503,
     "end_time": "2024-01-04T19:19:10.596805",
     "exception": false,
     "start_time": "2024-01-04T19:19:10.579302",
     "status": "completed"
    },
    "tags": []
   },
   "outputs": [],
   "source": []
  },
  {
   "cell_type": "code",
   "execution_count": null,
   "id": "0c89b4a7",
   "metadata": {
    "papermill": {
     "duration": 0.017724,
     "end_time": "2024-01-04T19:19:10.632518",
     "exception": false,
     "start_time": "2024-01-04T19:19:10.614794",
     "status": "completed"
    },
    "tags": []
   },
   "outputs": [],
   "source": []
  },
  {
   "cell_type": "code",
   "execution_count": null,
   "id": "ceb51d00",
   "metadata": {
    "papermill": {
     "duration": 0.017543,
     "end_time": "2024-01-04T19:19:10.667984",
     "exception": false,
     "start_time": "2024-01-04T19:19:10.650441",
     "status": "completed"
    },
    "tags": []
   },
   "outputs": [],
   "source": []
  },
  {
   "cell_type": "code",
   "execution_count": null,
   "id": "61ac1bd7",
   "metadata": {
    "papermill": {
     "duration": 0.017409,
     "end_time": "2024-01-04T19:19:10.703578",
     "exception": false,
     "start_time": "2024-01-04T19:19:10.686169",
     "status": "completed"
    },
    "tags": []
   },
   "outputs": [],
   "source": []
  },
  {
   "cell_type": "code",
   "execution_count": null,
   "id": "58b70334",
   "metadata": {
    "papermill": {
     "duration": 0.017643,
     "end_time": "2024-01-04T19:19:10.739094",
     "exception": false,
     "start_time": "2024-01-04T19:19:10.721451",
     "status": "completed"
    },
    "tags": []
   },
   "outputs": [],
   "source": []
  },
  {
   "cell_type": "code",
   "execution_count": null,
   "id": "36c31ca4",
   "metadata": {
    "papermill": {
     "duration": 0.017635,
     "end_time": "2024-01-04T19:19:10.774484",
     "exception": false,
     "start_time": "2024-01-04T19:19:10.756849",
     "status": "completed"
    },
    "tags": []
   },
   "outputs": [],
   "source": []
  },
  {
   "cell_type": "code",
   "execution_count": null,
   "id": "eaeb2713",
   "metadata": {
    "papermill": {
     "duration": 0.018144,
     "end_time": "2024-01-04T19:19:10.811606",
     "exception": false,
     "start_time": "2024-01-04T19:19:10.793462",
     "status": "completed"
    },
    "tags": []
   },
   "outputs": [],
   "source": []
  }
 ],
 "metadata": {
  "kaggle": {
   "accelerator": "nvidiaTeslaT4",
   "dataSources": [
    {
     "datasetId": 1686903,
     "sourceId": 2764486,
     "sourceType": "datasetVersion"
    }
   ],
   "dockerImageVersionId": 30627,
   "isGpuEnabled": true,
   "isInternetEnabled": true,
   "language": "python",
   "sourceType": "notebook"
  },
  "kernelspec": {
   "display_name": "Python 3 (ipykernel)",
   "language": "python",
   "name": "python3"
  },
  "language_info": {
   "codemirror_mode": {
    "name": "ipython",
    "version": 3
   },
   "file_extension": ".py",
   "mimetype": "text/x-python",
   "name": "python",
   "nbconvert_exporter": "python",
   "pygments_lexer": "ipython3",
   "version": "3.11.7"
  },
  "papermill": {
   "default_parameters": {},
   "duration": 23667.314231,
   "end_time": "2024-01-04T19:19:14.464211",
   "environment_variables": {},
   "exception": null,
   "input_path": "__notebook__.ipynb",
   "output_path": "__notebook__.ipynb",
   "parameters": {},
   "start_time": "2024-01-04T12:44:47.149980",
   "version": "2.4.0"
  },
  "widgets": {
   "application/vnd.jupyter.widget-state+json": {
    "state": {
     "024cef7a066542bbaa2c4af3feb31b31": {
      "model_module": "@jupyter-widgets/controls",
      "model_module_version": "1.5.0",
      "model_name": "HBoxModel",
      "state": {
       "_dom_classes": [],
       "_model_module": "@jupyter-widgets/controls",
       "_model_module_version": "1.5.0",
       "_model_name": "HBoxModel",
       "_view_count": null,
       "_view_module": "@jupyter-widgets/controls",
       "_view_module_version": "1.5.0",
       "_view_name": "HBoxView",
       "box_style": "",
       "children": [
        "IPY_MODEL_0f06f3ad697c47e3b8aa7cbf410260ce",
        "IPY_MODEL_61a147d0318d40b5aec7416891b0bd3c",
        "IPY_MODEL_7a4b7437ae854e4f82378ad84c6ec47d"
       ],
       "layout": "IPY_MODEL_adba61197e2943a5aa0233962260941c"
      }
     },
     "0f06f3ad697c47e3b8aa7cbf410260ce": {
      "model_module": "@jupyter-widgets/controls",
      "model_module_version": "1.5.0",
      "model_name": "HTMLModel",
      "state": {
       "_dom_classes": [],
       "_model_module": "@jupyter-widgets/controls",
       "_model_module_version": "1.5.0",
       "_model_name": "HTMLModel",
       "_view_count": null,
       "_view_module": "@jupyter-widgets/controls",
       "_view_module_version": "1.5.0",
       "_view_name": "HTMLView",
       "description": "",
       "description_tooltip": null,
       "layout": "IPY_MODEL_269493531cf94ec283b06f44041c0b90",
       "placeholder": "​",
       "style": "IPY_MODEL_74716a9da7884023b4b50179e06553d8",
       "value": "config.json: 100%"
      }
     },
     "17cadf0e8da84dd4b1286d92e52abfc7": {
      "model_module": "@jupyter-widgets/controls",
      "model_module_version": "1.5.0",
      "model_name": "ProgressStyleModel",
      "state": {
       "_model_module": "@jupyter-widgets/controls",
       "_model_module_version": "1.5.0",
       "_model_name": "ProgressStyleModel",
       "_view_count": null,
       "_view_module": "@jupyter-widgets/base",
       "_view_module_version": "1.2.0",
       "_view_name": "StyleView",
       "bar_color": null,
       "description_width": ""
      }
     },
     "269493531cf94ec283b06f44041c0b90": {
      "model_module": "@jupyter-widgets/base",
      "model_module_version": "1.2.0",
      "model_name": "LayoutModel",
      "state": {
       "_model_module": "@jupyter-widgets/base",
       "_model_module_version": "1.2.0",
       "_model_name": "LayoutModel",
       "_view_count": null,
       "_view_module": "@jupyter-widgets/base",
       "_view_module_version": "1.2.0",
       "_view_name": "LayoutView",
       "align_content": null,
       "align_items": null,
       "align_self": null,
       "border": null,
       "bottom": null,
       "display": null,
       "flex": null,
       "flex_flow": null,
       "grid_area": null,
       "grid_auto_columns": null,
       "grid_auto_flow": null,
       "grid_auto_rows": null,
       "grid_column": null,
       "grid_gap": null,
       "grid_row": null,
       "grid_template_areas": null,
       "grid_template_columns": null,
       "grid_template_rows": null,
       "height": null,
       "justify_content": null,
       "justify_items": null,
       "left": null,
       "margin": null,
       "max_height": null,
       "max_width": null,
       "min_height": null,
       "min_width": null,
       "object_fit": null,
       "object_position": null,
       "order": null,
       "overflow": null,
       "overflow_x": null,
       "overflow_y": null,
       "padding": null,
       "right": null,
       "top": null,
       "visibility": null,
       "width": null
      }
     },
     "2a872eb1a6904a95be156168b2e48870": {
      "model_module": "@jupyter-widgets/base",
      "model_module_version": "1.2.0",
      "model_name": "LayoutModel",
      "state": {
       "_model_module": "@jupyter-widgets/base",
       "_model_module_version": "1.2.0",
       "_model_name": "LayoutModel",
       "_view_count": null,
       "_view_module": "@jupyter-widgets/base",
       "_view_module_version": "1.2.0",
       "_view_name": "LayoutView",
       "align_content": null,
       "align_items": null,
       "align_self": null,
       "border": null,
       "bottom": null,
       "display": null,
       "flex": null,
       "flex_flow": null,
       "grid_area": null,
       "grid_auto_columns": null,
       "grid_auto_flow": null,
       "grid_auto_rows": null,
       "grid_column": null,
       "grid_gap": null,
       "grid_row": null,
       "grid_template_areas": null,
       "grid_template_columns": null,
       "grid_template_rows": null,
       "height": null,
       "justify_content": null,
       "justify_items": null,
       "left": null,
       "margin": null,
       "max_height": null,
       "max_width": null,
       "min_height": null,
       "min_width": null,
       "object_fit": null,
       "object_position": null,
       "order": null,
       "overflow": null,
       "overflow_x": null,
       "overflow_y": null,
       "padding": null,
       "right": null,
       "top": null,
       "visibility": null,
       "width": null
      }
     },
     "32300429176347ab8d6d2585d8316062": {
      "model_module": "@jupyter-widgets/base",
      "model_module_version": "1.2.0",
      "model_name": "LayoutModel",
      "state": {
       "_model_module": "@jupyter-widgets/base",
       "_model_module_version": "1.2.0",
       "_model_name": "LayoutModel",
       "_view_count": null,
       "_view_module": "@jupyter-widgets/base",
       "_view_module_version": "1.2.0",
       "_view_name": "LayoutView",
       "align_content": null,
       "align_items": null,
       "align_self": null,
       "border": null,
       "bottom": null,
       "display": null,
       "flex": null,
       "flex_flow": null,
       "grid_area": null,
       "grid_auto_columns": null,
       "grid_auto_flow": null,
       "grid_auto_rows": null,
       "grid_column": null,
       "grid_gap": null,
       "grid_row": null,
       "grid_template_areas": null,
       "grid_template_columns": null,
       "grid_template_rows": null,
       "height": null,
       "justify_content": null,
       "justify_items": null,
       "left": null,
       "margin": null,
       "max_height": null,
       "max_width": null,
       "min_height": null,
       "min_width": null,
       "object_fit": null,
       "object_position": null,
       "order": null,
       "overflow": null,
       "overflow_x": null,
       "overflow_y": null,
       "padding": null,
       "right": null,
       "top": null,
       "visibility": null,
       "width": null
      }
     },
     "340152a5b3ec4786a05fb5e308959f61": {
      "model_module": "@jupyter-widgets/controls",
      "model_module_version": "1.5.0",
      "model_name": "DescriptionStyleModel",
      "state": {
       "_model_module": "@jupyter-widgets/controls",
       "_model_module_version": "1.5.0",
       "_model_name": "DescriptionStyleModel",
       "_view_count": null,
       "_view_module": "@jupyter-widgets/base",
       "_view_module_version": "1.2.0",
       "_view_name": "StyleView",
       "description_width": ""
      }
     },
     "35f83691fda6466fb7f16358d770c7dd": {
      "model_module": "@jupyter-widgets/base",
      "model_module_version": "1.2.0",
      "model_name": "LayoutModel",
      "state": {
       "_model_module": "@jupyter-widgets/base",
       "_model_module_version": "1.2.0",
       "_model_name": "LayoutModel",
       "_view_count": null,
       "_view_module": "@jupyter-widgets/base",
       "_view_module_version": "1.2.0",
       "_view_name": "LayoutView",
       "align_content": null,
       "align_items": null,
       "align_self": null,
       "border": null,
       "bottom": null,
       "display": null,
       "flex": null,
       "flex_flow": null,
       "grid_area": null,
       "grid_auto_columns": null,
       "grid_auto_flow": null,
       "grid_auto_rows": null,
       "grid_column": null,
       "grid_gap": null,
       "grid_row": null,
       "grid_template_areas": null,
       "grid_template_columns": null,
       "grid_template_rows": null,
       "height": null,
       "justify_content": null,
       "justify_items": null,
       "left": null,
       "margin": null,
       "max_height": null,
       "max_width": null,
       "min_height": null,
       "min_width": null,
       "object_fit": null,
       "object_position": null,
       "order": null,
       "overflow": null,
       "overflow_x": null,
       "overflow_y": null,
       "padding": null,
       "right": null,
       "top": null,
       "visibility": null,
       "width": null
      }
     },
     "4821d584e9a64c05a8b3caae6f4c66cd": {
      "model_module": "@jupyter-widgets/base",
      "model_module_version": "1.2.0",
      "model_name": "LayoutModel",
      "state": {
       "_model_module": "@jupyter-widgets/base",
       "_model_module_version": "1.2.0",
       "_model_name": "LayoutModel",
       "_view_count": null,
       "_view_module": "@jupyter-widgets/base",
       "_view_module_version": "1.2.0",
       "_view_name": "LayoutView",
       "align_content": null,
       "align_items": null,
       "align_self": null,
       "border": null,
       "bottom": null,
       "display": null,
       "flex": null,
       "flex_flow": null,
       "grid_area": null,
       "grid_auto_columns": null,
       "grid_auto_flow": null,
       "grid_auto_rows": null,
       "grid_column": null,
       "grid_gap": null,
       "grid_row": null,
       "grid_template_areas": null,
       "grid_template_columns": null,
       "grid_template_rows": null,
       "height": null,
       "justify_content": null,
       "justify_items": null,
       "left": null,
       "margin": null,
       "max_height": null,
       "max_width": null,
       "min_height": null,
       "min_width": null,
       "object_fit": null,
       "object_position": null,
       "order": null,
       "overflow": null,
       "overflow_x": null,
       "overflow_y": null,
       "padding": null,
       "right": null,
       "top": null,
       "visibility": null,
       "width": null
      }
     },
     "521c03b718fb4320bdfbfa3f2a5a5c6c": {
      "model_module": "@jupyter-widgets/controls",
      "model_module_version": "1.5.0",
      "model_name": "DescriptionStyleModel",
      "state": {
       "_model_module": "@jupyter-widgets/controls",
       "_model_module_version": "1.5.0",
       "_model_name": "DescriptionStyleModel",
       "_view_count": null,
       "_view_module": "@jupyter-widgets/base",
       "_view_module_version": "1.2.0",
       "_view_name": "StyleView",
       "description_width": ""
      }
     },
     "5b033418360247bc9894464b89f1dd82": {
      "model_module": "@jupyter-widgets/controls",
      "model_module_version": "1.5.0",
      "model_name": "DescriptionStyleModel",
      "state": {
       "_model_module": "@jupyter-widgets/controls",
       "_model_module_version": "1.5.0",
       "_model_name": "DescriptionStyleModel",
       "_view_count": null,
       "_view_module": "@jupyter-widgets/base",
       "_view_module_version": "1.2.0",
       "_view_name": "StyleView",
       "description_width": ""
      }
     },
     "61a147d0318d40b5aec7416891b0bd3c": {
      "model_module": "@jupyter-widgets/controls",
      "model_module_version": "1.5.0",
      "model_name": "FloatProgressModel",
      "state": {
       "_dom_classes": [],
       "_model_module": "@jupyter-widgets/controls",
       "_model_module_version": "1.5.0",
       "_model_name": "FloatProgressModel",
       "_view_count": null,
       "_view_module": "@jupyter-widgets/controls",
       "_view_module_version": "1.5.0",
       "_view_name": "ProgressView",
       "bar_style": "success",
       "description": "",
       "description_tooltip": null,
       "layout": "IPY_MODEL_35f83691fda6466fb7f16358d770c7dd",
       "max": 502,
       "min": 0,
       "orientation": "horizontal",
       "style": "IPY_MODEL_d4d1f99a384947149297e0ca392bff80",
       "value": 502
      }
     },
     "74716a9da7884023b4b50179e06553d8": {
      "model_module": "@jupyter-widgets/controls",
      "model_module_version": "1.5.0",
      "model_name": "DescriptionStyleModel",
      "state": {
       "_model_module": "@jupyter-widgets/controls",
       "_model_module_version": "1.5.0",
       "_model_name": "DescriptionStyleModel",
       "_view_count": null,
       "_view_module": "@jupyter-widgets/base",
       "_view_module_version": "1.2.0",
       "_view_name": "StyleView",
       "description_width": ""
      }
     },
     "7a4b7437ae854e4f82378ad84c6ec47d": {
      "model_module": "@jupyter-widgets/controls",
      "model_module_version": "1.5.0",
      "model_name": "HTMLModel",
      "state": {
       "_dom_classes": [],
       "_model_module": "@jupyter-widgets/controls",
       "_model_module_version": "1.5.0",
       "_model_name": "HTMLModel",
       "_view_count": null,
       "_view_module": "@jupyter-widgets/controls",
       "_view_module_version": "1.5.0",
       "_view_name": "HTMLView",
       "description": "",
       "description_tooltip": null,
       "layout": "IPY_MODEL_2a872eb1a6904a95be156168b2e48870",
       "placeholder": "​",
       "style": "IPY_MODEL_5b033418360247bc9894464b89f1dd82",
       "value": " 502/502 [00:00&lt;00:00, 45.2kB/s]"
      }
     },
     "89a99aeaaa034c8ba58dd61eab9576c5": {
      "model_module": "@jupyter-widgets/controls",
      "model_module_version": "1.5.0",
      "model_name": "HBoxModel",
      "state": {
       "_dom_classes": [],
       "_model_module": "@jupyter-widgets/controls",
       "_model_module_version": "1.5.0",
       "_model_name": "HBoxModel",
       "_view_count": null,
       "_view_module": "@jupyter-widgets/controls",
       "_view_module_version": "1.5.0",
       "_view_name": "HBoxView",
       "box_style": "",
       "children": [
        "IPY_MODEL_8bde7dac7aab4d9ebc5791e3dea028c3",
        "IPY_MODEL_94063cdd7de34d91ae1dca6a847019e1",
        "IPY_MODEL_d68007b1b82341a593fc534e13e8f1d5"
       ],
       "layout": "IPY_MODEL_32300429176347ab8d6d2585d8316062"
      }
     },
     "8bde7dac7aab4d9ebc5791e3dea028c3": {
      "model_module": "@jupyter-widgets/controls",
      "model_module_version": "1.5.0",
      "model_name": "HTMLModel",
      "state": {
       "_dom_classes": [],
       "_model_module": "@jupyter-widgets/controls",
       "_model_module_version": "1.5.0",
       "_model_name": "HTMLModel",
       "_view_count": null,
       "_view_module": "@jupyter-widgets/controls",
       "_view_module_version": "1.5.0",
       "_view_name": "HTMLView",
       "description": "",
       "description_tooltip": null,
       "layout": "IPY_MODEL_cc8e0bb9354c43e992460d636bdf0872",
       "placeholder": "​",
       "style": "IPY_MODEL_cb1f39efb893451bb19c7cf372621096",
       "value": "pytorch_model.bin: 100%"
      }
     },
     "94063cdd7de34d91ae1dca6a847019e1": {
      "model_module": "@jupyter-widgets/controls",
      "model_module_version": "1.5.0",
      "model_name": "FloatProgressModel",
      "state": {
       "_dom_classes": [],
       "_model_module": "@jupyter-widgets/controls",
       "_model_module_version": "1.5.0",
       "_model_name": "FloatProgressModel",
       "_view_count": null,
       "_view_module": "@jupyter-widgets/controls",
       "_view_module_version": "1.5.0",
       "_view_name": "ProgressView",
       "bar_style": "success",
       "description": "",
       "description_tooltip": null,
       "layout": "IPY_MODEL_9cb1ce2de52a42c29545d43ac5779062",
       "max": 345636463,
       "min": 0,
       "orientation": "horizontal",
       "style": "IPY_MODEL_17cadf0e8da84dd4b1286d92e52abfc7",
       "value": 345636463
      }
     },
     "9554ddc87cd94af39f95ca2075d2cb56": {
      "model_module": "@jupyter-widgets/base",
      "model_module_version": "1.2.0",
      "model_name": "LayoutModel",
      "state": {
       "_model_module": "@jupyter-widgets/base",
       "_model_module_version": "1.2.0",
       "_model_name": "LayoutModel",
       "_view_count": null,
       "_view_module": "@jupyter-widgets/base",
       "_view_module_version": "1.2.0",
       "_view_name": "LayoutView",
       "align_content": null,
       "align_items": null,
       "align_self": null,
       "border": null,
       "bottom": null,
       "display": null,
       "flex": null,
       "flex_flow": null,
       "grid_area": null,
       "grid_auto_columns": null,
       "grid_auto_flow": null,
       "grid_auto_rows": null,
       "grid_column": null,
       "grid_gap": null,
       "grid_row": null,
       "grid_template_areas": null,
       "grid_template_columns": null,
       "grid_template_rows": null,
       "height": null,
       "justify_content": null,
       "justify_items": null,
       "left": null,
       "margin": null,
       "max_height": null,
       "max_width": null,
       "min_height": null,
       "min_width": null,
       "object_fit": null,
       "object_position": null,
       "order": null,
       "overflow": null,
       "overflow_x": null,
       "overflow_y": null,
       "padding": null,
       "right": null,
       "top": null,
       "visibility": null,
       "width": null
      }
     },
     "96c6fc5dedab46c89f2dddbe9c9e9f49": {
      "model_module": "@jupyter-widgets/controls",
      "model_module_version": "1.5.0",
      "model_name": "ProgressStyleModel",
      "state": {
       "_model_module": "@jupyter-widgets/controls",
       "_model_module_version": "1.5.0",
       "_model_name": "ProgressStyleModel",
       "_view_count": null,
       "_view_module": "@jupyter-widgets/base",
       "_view_module_version": "1.2.0",
       "_view_name": "StyleView",
       "bar_color": null,
       "description_width": ""
      }
     },
     "9cb1ce2de52a42c29545d43ac5779062": {
      "model_module": "@jupyter-widgets/base",
      "model_module_version": "1.2.0",
      "model_name": "LayoutModel",
      "state": {
       "_model_module": "@jupyter-widgets/base",
       "_model_module_version": "1.2.0",
       "_model_name": "LayoutModel",
       "_view_count": null,
       "_view_module": "@jupyter-widgets/base",
       "_view_module_version": "1.2.0",
       "_view_name": "LayoutView",
       "align_content": null,
       "align_items": null,
       "align_self": null,
       "border": null,
       "bottom": null,
       "display": null,
       "flex": null,
       "flex_flow": null,
       "grid_area": null,
       "grid_auto_columns": null,
       "grid_auto_flow": null,
       "grid_auto_rows": null,
       "grid_column": null,
       "grid_gap": null,
       "grid_row": null,
       "grid_template_areas": null,
       "grid_template_columns": null,
       "grid_template_rows": null,
       "height": null,
       "justify_content": null,
       "justify_items": null,
       "left": null,
       "margin": null,
       "max_height": null,
       "max_width": null,
       "min_height": null,
       "min_width": null,
       "object_fit": null,
       "object_position": null,
       "order": null,
       "overflow": null,
       "overflow_x": null,
       "overflow_y": null,
       "padding": null,
       "right": null,
       "top": null,
       "visibility": null,
       "width": null
      }
     },
     "a25976737b3b404babadc84ca7899029": {
      "model_module": "@jupyter-widgets/controls",
      "model_module_version": "1.5.0",
      "model_name": "HBoxModel",
      "state": {
       "_dom_classes": [],
       "_model_module": "@jupyter-widgets/controls",
       "_model_module_version": "1.5.0",
       "_model_name": "HBoxModel",
       "_view_count": null,
       "_view_module": "@jupyter-widgets/controls",
       "_view_module_version": "1.5.0",
       "_view_name": "HBoxView",
       "box_style": "",
       "children": [
        "IPY_MODEL_b02d84b577684f48a440c650c6298d98",
        "IPY_MODEL_d6cfdc61edca4a9ab20d7f696264c8c0",
        "IPY_MODEL_d511927f85a7420f8af8754417102016"
       ],
       "layout": "IPY_MODEL_b22f1ddd029c48feb97c05b7b1c763c2"
      }
     },
     "adba61197e2943a5aa0233962260941c": {
      "model_module": "@jupyter-widgets/base",
      "model_module_version": "1.2.0",
      "model_name": "LayoutModel",
      "state": {
       "_model_module": "@jupyter-widgets/base",
       "_model_module_version": "1.2.0",
       "_model_name": "LayoutModel",
       "_view_count": null,
       "_view_module": "@jupyter-widgets/base",
       "_view_module_version": "1.2.0",
       "_view_name": "LayoutView",
       "align_content": null,
       "align_items": null,
       "align_self": null,
       "border": null,
       "bottom": null,
       "display": null,
       "flex": null,
       "flex_flow": null,
       "grid_area": null,
       "grid_auto_columns": null,
       "grid_auto_flow": null,
       "grid_auto_rows": null,
       "grid_column": null,
       "grid_gap": null,
       "grid_row": null,
       "grid_template_areas": null,
       "grid_template_columns": null,
       "grid_template_rows": null,
       "height": null,
       "justify_content": null,
       "justify_items": null,
       "left": null,
       "margin": null,
       "max_height": null,
       "max_width": null,
       "min_height": null,
       "min_width": null,
       "object_fit": null,
       "object_position": null,
       "order": null,
       "overflow": null,
       "overflow_x": null,
       "overflow_y": null,
       "padding": null,
       "right": null,
       "top": null,
       "visibility": null,
       "width": null
      }
     },
     "b02d84b577684f48a440c650c6298d98": {
      "model_module": "@jupyter-widgets/controls",
      "model_module_version": "1.5.0",
      "model_name": "HTMLModel",
      "state": {
       "_dom_classes": [],
       "_model_module": "@jupyter-widgets/controls",
       "_model_module_version": "1.5.0",
       "_model_name": "HTMLModel",
       "_view_count": null,
       "_view_module": "@jupyter-widgets/controls",
       "_view_module_version": "1.5.0",
       "_view_name": "HTMLView",
       "description": "",
       "description_tooltip": null,
       "layout": "IPY_MODEL_e8dad34f61f6412cb3d226c3c2ecdfae",
       "placeholder": "​",
       "style": "IPY_MODEL_521c03b718fb4320bdfbfa3f2a5a5c6c",
       "value": "preprocessor_config.json: 100%"
      }
     },
     "b22f1ddd029c48feb97c05b7b1c763c2": {
      "model_module": "@jupyter-widgets/base",
      "model_module_version": "1.2.0",
      "model_name": "LayoutModel",
      "state": {
       "_model_module": "@jupyter-widgets/base",
       "_model_module_version": "1.2.0",
       "_model_name": "LayoutModel",
       "_view_count": null,
       "_view_module": "@jupyter-widgets/base",
       "_view_module_version": "1.2.0",
       "_view_name": "LayoutView",
       "align_content": null,
       "align_items": null,
       "align_self": null,
       "border": null,
       "bottom": null,
       "display": null,
       "flex": null,
       "flex_flow": null,
       "grid_area": null,
       "grid_auto_columns": null,
       "grid_auto_flow": null,
       "grid_auto_rows": null,
       "grid_column": null,
       "grid_gap": null,
       "grid_row": null,
       "grid_template_areas": null,
       "grid_template_columns": null,
       "grid_template_rows": null,
       "height": null,
       "justify_content": null,
       "justify_items": null,
       "left": null,
       "margin": null,
       "max_height": null,
       "max_width": null,
       "min_height": null,
       "min_width": null,
       "object_fit": null,
       "object_position": null,
       "order": null,
       "overflow": null,
       "overflow_x": null,
       "overflow_y": null,
       "padding": null,
       "right": null,
       "top": null,
       "visibility": null,
       "width": null
      }
     },
     "c56abb592aca405cb2be629ea8e6035d": {
      "model_module": "@jupyter-widgets/base",
      "model_module_version": "1.2.0",
      "model_name": "LayoutModel",
      "state": {
       "_model_module": "@jupyter-widgets/base",
       "_model_module_version": "1.2.0",
       "_model_name": "LayoutModel",
       "_view_count": null,
       "_view_module": "@jupyter-widgets/base",
       "_view_module_version": "1.2.0",
       "_view_name": "LayoutView",
       "align_content": null,
       "align_items": null,
       "align_self": null,
       "border": null,
       "bottom": null,
       "display": null,
       "flex": null,
       "flex_flow": null,
       "grid_area": null,
       "grid_auto_columns": null,
       "grid_auto_flow": null,
       "grid_auto_rows": null,
       "grid_column": null,
       "grid_gap": null,
       "grid_row": null,
       "grid_template_areas": null,
       "grid_template_columns": null,
       "grid_template_rows": null,
       "height": null,
       "justify_content": null,
       "justify_items": null,
       "left": null,
       "margin": null,
       "max_height": null,
       "max_width": null,
       "min_height": null,
       "min_width": null,
       "object_fit": null,
       "object_position": null,
       "order": null,
       "overflow": null,
       "overflow_x": null,
       "overflow_y": null,
       "padding": null,
       "right": null,
       "top": null,
       "visibility": null,
       "width": null
      }
     },
     "cb1f39efb893451bb19c7cf372621096": {
      "model_module": "@jupyter-widgets/controls",
      "model_module_version": "1.5.0",
      "model_name": "DescriptionStyleModel",
      "state": {
       "_model_module": "@jupyter-widgets/controls",
       "_model_module_version": "1.5.0",
       "_model_name": "DescriptionStyleModel",
       "_view_count": null,
       "_view_module": "@jupyter-widgets/base",
       "_view_module_version": "1.2.0",
       "_view_name": "StyleView",
       "description_width": ""
      }
     },
     "cc8e0bb9354c43e992460d636bdf0872": {
      "model_module": "@jupyter-widgets/base",
      "model_module_version": "1.2.0",
      "model_name": "LayoutModel",
      "state": {
       "_model_module": "@jupyter-widgets/base",
       "_model_module_version": "1.2.0",
       "_model_name": "LayoutModel",
       "_view_count": null,
       "_view_module": "@jupyter-widgets/base",
       "_view_module_version": "1.2.0",
       "_view_name": "LayoutView",
       "align_content": null,
       "align_items": null,
       "align_self": null,
       "border": null,
       "bottom": null,
       "display": null,
       "flex": null,
       "flex_flow": null,
       "grid_area": null,
       "grid_auto_columns": null,
       "grid_auto_flow": null,
       "grid_auto_rows": null,
       "grid_column": null,
       "grid_gap": null,
       "grid_row": null,
       "grid_template_areas": null,
       "grid_template_columns": null,
       "grid_template_rows": null,
       "height": null,
       "justify_content": null,
       "justify_items": null,
       "left": null,
       "margin": null,
       "max_height": null,
       "max_width": null,
       "min_height": null,
       "min_width": null,
       "object_fit": null,
       "object_position": null,
       "order": null,
       "overflow": null,
       "overflow_x": null,
       "overflow_y": null,
       "padding": null,
       "right": null,
       "top": null,
       "visibility": null,
       "width": null
      }
     },
     "d4d1f99a384947149297e0ca392bff80": {
      "model_module": "@jupyter-widgets/controls",
      "model_module_version": "1.5.0",
      "model_name": "ProgressStyleModel",
      "state": {
       "_model_module": "@jupyter-widgets/controls",
       "_model_module_version": "1.5.0",
       "_model_name": "ProgressStyleModel",
       "_view_count": null,
       "_view_module": "@jupyter-widgets/base",
       "_view_module_version": "1.2.0",
       "_view_name": "StyleView",
       "bar_color": null,
       "description_width": ""
      }
     },
     "d511927f85a7420f8af8754417102016": {
      "model_module": "@jupyter-widgets/controls",
      "model_module_version": "1.5.0",
      "model_name": "HTMLModel",
      "state": {
       "_dom_classes": [],
       "_model_module": "@jupyter-widgets/controls",
       "_model_module_version": "1.5.0",
       "_model_name": "HTMLModel",
       "_view_count": null,
       "_view_module": "@jupyter-widgets/controls",
       "_view_module_version": "1.5.0",
       "_view_name": "HTMLView",
       "description": "",
       "description_tooltip": null,
       "layout": "IPY_MODEL_9554ddc87cd94af39f95ca2075d2cb56",
       "placeholder": "​",
       "style": "IPY_MODEL_d93b2c58a18d42a89d573a5835ae29d4",
       "value": " 160/160 [00:00&lt;00:00, 10.9kB/s]"
      }
     },
     "d68007b1b82341a593fc534e13e8f1d5": {
      "model_module": "@jupyter-widgets/controls",
      "model_module_version": "1.5.0",
      "model_name": "HTMLModel",
      "state": {
       "_dom_classes": [],
       "_model_module": "@jupyter-widgets/controls",
       "_model_module_version": "1.5.0",
       "_model_name": "HTMLModel",
       "_view_count": null,
       "_view_module": "@jupyter-widgets/controls",
       "_view_module_version": "1.5.0",
       "_view_name": "HTMLView",
       "description": "",
       "description_tooltip": null,
       "layout": "IPY_MODEL_c56abb592aca405cb2be629ea8e6035d",
       "placeholder": "​",
       "style": "IPY_MODEL_340152a5b3ec4786a05fb5e308959f61",
       "value": " 346M/346M [00:01&lt;00:00, 220MB/s]"
      }
     },
     "d6cfdc61edca4a9ab20d7f696264c8c0": {
      "model_module": "@jupyter-widgets/controls",
      "model_module_version": "1.5.0",
      "model_name": "FloatProgressModel",
      "state": {
       "_dom_classes": [],
       "_model_module": "@jupyter-widgets/controls",
       "_model_module_version": "1.5.0",
       "_model_name": "FloatProgressModel",
       "_view_count": null,
       "_view_module": "@jupyter-widgets/controls",
       "_view_module_version": "1.5.0",
       "_view_name": "ProgressView",
       "bar_style": "success",
       "description": "",
       "description_tooltip": null,
       "layout": "IPY_MODEL_4821d584e9a64c05a8b3caae6f4c66cd",
       "max": 160,
       "min": 0,
       "orientation": "horizontal",
       "style": "IPY_MODEL_96c6fc5dedab46c89f2dddbe9c9e9f49",
       "value": 160
      }
     },
     "d93b2c58a18d42a89d573a5835ae29d4": {
      "model_module": "@jupyter-widgets/controls",
      "model_module_version": "1.5.0",
      "model_name": "DescriptionStyleModel",
      "state": {
       "_model_module": "@jupyter-widgets/controls",
       "_model_module_version": "1.5.0",
       "_model_name": "DescriptionStyleModel",
       "_view_count": null,
       "_view_module": "@jupyter-widgets/base",
       "_view_module_version": "1.2.0",
       "_view_name": "StyleView",
       "description_width": ""
      }
     },
     "e8dad34f61f6412cb3d226c3c2ecdfae": {
      "model_module": "@jupyter-widgets/base",
      "model_module_version": "1.2.0",
      "model_name": "LayoutModel",
      "state": {
       "_model_module": "@jupyter-widgets/base",
       "_model_module_version": "1.2.0",
       "_model_name": "LayoutModel",
       "_view_count": null,
       "_view_module": "@jupyter-widgets/base",
       "_view_module_version": "1.2.0",
       "_view_name": "LayoutView",
       "align_content": null,
       "align_items": null,
       "align_self": null,
       "border": null,
       "bottom": null,
       "display": null,
       "flex": null,
       "flex_flow": null,
       "grid_area": null,
       "grid_auto_columns": null,
       "grid_auto_flow": null,
       "grid_auto_rows": null,
       "grid_column": null,
       "grid_gap": null,
       "grid_row": null,
       "grid_template_areas": null,
       "grid_template_columns": null,
       "grid_template_rows": null,
       "height": null,
       "justify_content": null,
       "justify_items": null,
       "left": null,
       "margin": null,
       "max_height": null,
       "max_width": null,
       "min_height": null,
       "min_width": null,
       "object_fit": null,
       "object_position": null,
       "order": null,
       "overflow": null,
       "overflow_x": null,
       "overflow_y": null,
       "padding": null,
       "right": null,
       "top": null,
       "visibility": null,
       "width": null
      }
     }
    },
    "version_major": 2,
    "version_minor": 0
   }
  }
 },
 "nbformat": 4,
 "nbformat_minor": 5
}
